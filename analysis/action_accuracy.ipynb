{
 "cells": [
  {
   "cell_type": "code",
   "execution_count": 79,
   "metadata": {},
   "outputs": [],
   "source": [
    "import h5py\n",
    "import numpy as np\n",
    "import os"
   ]
  },
  {
   "cell_type": "code",
   "execution_count": 80,
   "metadata": {},
   "outputs": [],
   "source": [
    "root = os.path.abspath(\"..\")\n",
    "data_root = os.path.join(root, \"datasets\", \"libero_10\")\n",
    "filename = \"KITCHEN_SCENE3_turn_on_the_stove_and_put_the_moka_pot_on_it_demo.hdf5\"\n",
    "data = h5py.File(os.path.join(data_root, filename), \"r\")"
   ]
  },
  {
   "cell_type": "code",
   "execution_count": 82,
   "metadata": {},
   "outputs": [
    {
     "name": "stdout",
     "output_type": "stream",
     "text": [
      "Eval Task: KITCHEN_SCENE3_turn_on_the_stove_and_put_the_moka_pot_on_it_demo.hdf5\n",
      "\tAction MSE: 0.19106465670767583\n",
      "Eval Task: KITCHEN_SCENE4_put_the_black_bowl_in_the_bottom_drawer_of_the_cabinet_and_close_it_demo.hdf5\n",
      "\tAction MSE: 0.19106465670767583\n",
      "Eval Task: KITCHEN_SCENE6_put_the_yellow_and_white_mug_in_the_microwave_and_close_it_demo.hdf5\n",
      "\tAction MSE: 0.19106465670767583\n",
      "Eval Task: KITCHEN_SCENE8_put_both_moka_pots_on_the_stove_demo.hdf5\n",
      "\tAction MSE: 0.19106465670767583\n",
      "Eval Task: LIVING_ROOM_SCENE1_put_both_the_alphabet_soup_and_the_cream_cheese_box_in_the_basket_demo.hdf5\n",
      "\tAction MSE: 0.19106465670767583\n",
      "Eval Task: LIVING_ROOM_SCENE2_put_both_the_alphabet_soup_and_the_tomato_sauce_in_the_basket_demo.hdf5\n",
      "\tAction MSE: 0.19106465670767583\n",
      "Eval Task: LIVING_ROOM_SCENE2_put_both_the_cream_cheese_box_and_the_butter_in_the_basket_demo.hdf5\n",
      "\tAction MSE: 0.19106465670767583\n",
      "Eval Task: LIVING_ROOM_SCENE5_put_the_white_mug_on_the_left_plate_and_put_the_yellow_and_white_mug_on_the_right_plate_demo.hdf5\n",
      "\tAction MSE: 0.19106465670767583\n",
      "Eval Task: LIVING_ROOM_SCENE6_put_the_white_mug_on_the_plate_and_put_the_chocolate_pudding_to_the_right_of_the_plate_demo.hdf5\n",
      "\tAction MSE: 0.19106465670767583\n",
      "Eval Task: STUDY_SCENE1_pick_up_the_book_and_place_it_in_the_back_compartment_of_the_caddy_demo.hdf5\n",
      "\tAction MSE: 0.19106465670767583\n"
     ]
    }
   ],
   "source": [
    "# loop over tasks\n",
    "for file in os.listdir(data_root):\n",
    "    # print task name\n",
    "    print(f\"Eval Task: {file}\")\n",
    "    data = h5py.File(os.path.join(data_root, filename), \"r\")['data']\n",
    "\n",
    "    # loop over demos\n",
    "    # if this ends up being slow we can just use some percentage of the demos\n",
    "    total_mse = 0\n",
    "    for demo in data.keys():\n",
    "        \n",
    "        traj = data[demo]\n",
    "\n",
    "        # save actions\n",
    "        true_actions = np.asarray(traj['actions'])\n",
    "\n",
    "        # get predicted actions\n",
    "        pred_actions = []\n",
    "        for obs in traj['obs']['agentview_rgb']:\n",
    "            pred_actions.append(np.zeros(7))  # TODO: get actions predicted by diffusion policy\n",
    "        pred_actions = np.stack(pred_actions)\n",
    "        \n",
    "        total_mse += np.mean(np.power(true_actions - pred_actions, 2))\n",
    "    total_mse /= len(data.keys())\n",
    "    print(f\"\\tAction MSE: {total_mse}\")\n"
   ]
  }
 ],
 "metadata": {
  "kernelspec": {
   "display_name": "Python 3",
   "language": "python",
   "name": "python3"
  },
  "language_info": {
   "codemirror_mode": {
    "name": "ipython",
    "version": 3
   },
   "file_extension": ".py",
   "mimetype": "text/x-python",
   "name": "python",
   "nbconvert_exporter": "python",
   "pygments_lexer": "ipython3",
   "version": "3.11.9"
  }
 },
 "nbformat": 4,
 "nbformat_minor": 2
}
